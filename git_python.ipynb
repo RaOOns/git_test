{
 "cells": [
  {
   "cell_type": "code",
   "execution_count": 1,
   "id": "af1bd959-164e-4a26-b347-455af33aec1b",
   "metadata": {},
   "outputs": [],
   "source": [
    "import pandas as pd\n",
    "import numpy as np"
   ]
  },
  {
   "cell_type": "code",
   "execution_count": 2,
   "id": "cc7ace45-7005-46ac-af6a-7ff29b5881a0",
   "metadata": {},
   "outputs": [
    {
     "name": "stdout",
     "output_type": "stream",
     "text": [
      "Hellow Git world\n"
     ]
    }
   ],
   "source": [
    "print(\"Hellow Git world\")"
   ]
  },
  {
   "cell_type": "code",
   "execution_count": 3,
   "id": "6e022eff-2072-4269-821b-1acc77ecb1df",
   "metadata": {},
   "outputs": [
    {
     "name": "stdout",
     "output_type": "stream",
     "text": [
      "Add This Code\n"
     ]
    }
   ],
   "source": [
    "print(\"Add This Code\")"
   ]
  },
  {
   "cell_type": "code",
   "execution_count": null,
   "id": "05071807-447a-42d7-873f-f24f01ed3785",
   "metadata": {},
   "outputs": [],
   "source": []
  }
 ],
 "metadata": {
  "kernelspec": {
   "display_name": "Python 3 (ipykernel)",
   "language": "python",
   "name": "python3"
  },
  "language_info": {
   "codemirror_mode": {
    "name": "ipython",
    "version": 3
   },
   "file_extension": ".py",
   "mimetype": "text/x-python",
   "name": "python",
   "nbconvert_exporter": "python",
   "pygments_lexer": "ipython3",
   "version": "3.8.7"
  }
 },
 "nbformat": 4,
 "nbformat_minor": 5
}
